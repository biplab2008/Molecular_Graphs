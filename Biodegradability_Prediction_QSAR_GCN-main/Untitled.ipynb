{
 "cells": [
  {
   "cell_type": "code",
   "execution_count": 1,
   "id": "88d0718c",
   "metadata": {},
   "outputs": [],
   "source": [
    "from rdkit import Chem\n",
    "from rdkit.Chem.rdmolops import GetAdjacencyMatrix\n",
    "from typing import Union, List, Type, Optional\n",
    "import torch\n",
    "import numpy as np\n",
    "from torch_geometric.data import Data\n",
    "from torch_geometric.loader import DataLoader\n",
    "import pandas as pd\n",
    "import os\n",
    "from sklearn.model_selection import train_test_split"
   ]
  },
  {
   "cell_type": "code",
   "execution_count": 44,
   "id": "9cc240c4",
   "metadata": {},
   "outputs": [],
   "source": [
    "def one_hot_encoding(elem : str, allowable_elem : Union[List[str],List[int]])->List[bool]:\n",
    "    \n",
    "    if elem not in allowable_elem : elem = allowable_elem[-1]\n",
    "    \n",
    "    # [True if k==elem else False for k in allowable_elem]\n",
    "    # note map is faster\n",
    "    onehotvec=list(map(lambda dummy : dummy==elem,allowable_elem))\n",
    "    \n",
    "    return onehotvec\n",
    "\n",
    "def get_atom_features(atom : Type[Chem.rdchem.Mol],\n",
    "                  allowable_elem : List[str] =['C','N','O','S','F','Si','P','Cl','Br','Mg','Na',\n",
    "                                               'Ca','Fe','As','Al','I', 'B','V','K','Tl','Yb',\n",
    "                                               'Sb','Sn','Ag','Pd','Co','Se','Ti','Zn', 'Li','Ge',\n",
    "                                               'Cu','Au','Ni','Cd','In','Mn','Zr','Cr','Pt','Hg','Pb','Unknown'], \n",
    "                  use_H_explicit : bool =False,\n",
    "                  use_chirality : bool =False)->Optional[torch.Tensor]:\n",
    "    '''\n",
    "    function calcualtes node features\n",
    "    args: \n",
    "        - atom : Mol object\n",
    "        - allowable_elem : list of allowable elements\n",
    "    return :\n",
    "        - feats : node features\n",
    "    '''\n",
    "    # use H\n",
    "    if use_H_explicit : allowable_elem = ['H'] + allowable_elem\n",
    "    \n",
    "    # map elements \n",
    "    elem_list_enc=one_hot_encoding(atom.GetSymbol(),allowable_elem)\n",
    "    \n",
    "    # get atom degree\n",
    "    n_neighbors_enc = one_hot_encoding(atom.GetDegree(), [0, 1, 2, 3, 4])\n",
    "    \n",
    "    # formal charges\n",
    "    formal_charge_enc = one_hot_encoding(atom.GetFormalCharge(), [-3, -2, -1, 0, 1, 2, 3])\n",
    "    \n",
    "    # hybridization\n",
    "    hybridisation_type_enc = one_hot_encoding(str(atom.GetHybridization()), [\"S\", \"SP\", \"SP2\", \"SP3\", \"SP3D\", \"SP3D2\", \"OTHER\"])\n",
    "    \n",
    "    # atom belongs to a ring\n",
    "    is_in_a_ring_enc = [int(atom.IsInRing())]\n",
    "    \n",
    "    # presence of aromatic ring\n",
    "    is_aromatic_enc = [int(atom.GetIsAromatic())]\n",
    "    \n",
    "    # chirality and explicit H's\n",
    "    \n",
    "    # final encoding\n",
    "    f_enc=elem_list_enc + formal_charge_enc + hybridisation_type_enc + is_in_a_ring_enc + is_aromatic_enc\n",
    "    \n",
    "    return np.array(f_enc).astype('float')\n",
    "\n",
    "def get_bond_features(bond : Type[Chem.rdchem.Bond], use_stereochemistry : bool = True)->Optional[torch.Tensor]:\n",
    "    \n",
    "    # bond type only used common ones for organic molecules\n",
    "    bond_type_enc=one_hot_encoding(str(bond.GetBondType()),['SINGLE', 'DOUBLE', 'TRIPLE','AROMATIC'])\n",
    "    \n",
    "    # conjugation\n",
    "    bond_is_conj_enc = [int(bond.GetIsConjugated())]\n",
    "    \n",
    "    # is ring\n",
    "    bond_is_in_ring_enc = [int(bond.IsInRing())]\n",
    "    \n",
    "    bond_feature_enc = bond_type_enc + bond_is_conj_enc + bond_is_in_ring_enc\n",
    "    \n",
    "    if use_stereochemistry == True: \n",
    "        bond_feature_enc.extend(one_hot_encoding(str(bond.GetStereo()), [\"STEREOZ\", \"STEREOE\", \"STEREOANY\", \"STEREONONE\"]))\n",
    "    \n",
    "    return np.array(bond_feature_enc).astype('float')\n",
    "    \n",
    "def gen_graph_dset(smiles,labels):\n",
    "    # check num of nodses and edges\n",
    "    ethane='CC'\n",
    "    ethane=Chem.MolFromSmiles(ethane)\n",
    "    num_node_features=len(get_atom_features(ethane.GetAtoms()[0]))\n",
    "    num_edge_features=len(get_bond_features(ethane.GetBonds()[0]))\n",
    "\n",
    "    data_list=[]\n",
    "    #print(len(smiles))\n",
    "    #print(len(labels))\n",
    "    for smile, label in zip(smiles,labels):\n",
    "        print(smile,label)\n",
    "        #print(label)\n",
    "        mol=Chem.MolFromSmiles(smile)\n",
    "\n",
    "        num_atoms=mol.GetNumAtoms()\n",
    "        atom_features=np.zeros((num_atoms,num_node_features))\n",
    "\n",
    "        num_bonds=2*mol.GetNumBonds()\n",
    "        bond_features=np.zeros((num_bonds,num_edge_features))\n",
    "\n",
    "        # node features\n",
    "        for idx,atom in enumerate(mol.GetAtoms()):\n",
    "            atom_features[idx,:]=get_atom_features(atom)\n",
    "\n",
    "        # adjacency\n",
    "        adj=np.array([*np.nonzero(GetAdjacencyMatrix(mol))])\n",
    "\n",
    "        # bond features\n",
    "        for idx,(i,j) in enumerate(zip(adj[0,:],adj[1,:])):\n",
    "            bond_features[idx,:]=get_bond_features(mol.GetBondBetweenAtoms(int(i),int(j)))\n",
    "            \n",
    "        atom_features=torch.tensor(atom_features,dtype=torch.float)\n",
    "        adj=torch.tensor(adj,dtype=torch.float)\n",
    "        y=torch.tensor([label],dtype=torch.float)\n",
    "        edge_attr=torch.tensor(bond_features,dtype=torch.float)\n",
    "        # data\n",
    "        data_list.append(Data(x=atom_features,\n",
    "            edge_index=adj,\n",
    "            edge_attr=edge_attr,\n",
    "            y=y))\n",
    "        \n",
    "        return data_list\n",
    "    \n",
    "def create_dset(x_smiles, y):\n",
    "    \"\"\"\n",
    "    Inputs:\n",
    "    \n",
    "    x_smiles = [smiles_1, smiles_2, ....] ... a list of SMILES strings\n",
    "    y = [y_1, y_2, ...] ... a list of numerial labels for the SMILES strings (such as associated pKi values)\n",
    "    \n",
    "    Outputs:\n",
    "    \n",
    "    data_list = [G_1, G_2, ...] ... a list of torch_geometric.data.Data objects which represent labeled molecular graphs that can readily be used for machine learning\n",
    "    \n",
    "    \"\"\"\n",
    "    \n",
    "    data_list = []\n",
    "    \n",
    "    for (smiles, y_val) in zip(x_smiles, y):\n",
    "        \n",
    "        # convert SMILES to RDKit mol object\n",
    "        mol = Chem.MolFromSmiles(smiles)\n",
    "\n",
    "        # get feature dimensions\n",
    "        n_nodes = mol.GetNumAtoms()\n",
    "        n_edges = 2*mol.GetNumBonds()\n",
    "        unrelated_smiles = \"O=O\"\n",
    "        unrelated_mol = Chem.MolFromSmiles(unrelated_smiles)\n",
    "        n_node_features = len(get_atom_features(unrelated_mol.GetAtomWithIdx(0)))\n",
    "        n_edge_features = len(get_bond_features(unrelated_mol.GetBondBetweenAtoms(0,1)))\n",
    "\n",
    "        # construct node feature matrix X of shape (n_nodes, n_node_features)\n",
    "        X = np.zeros((n_nodes, n_node_features))\n",
    "\n",
    "        for atom in mol.GetAtoms():\n",
    "            X[atom.GetIdx(), :] = get_atom_features(atom)\n",
    "            \n",
    "        X = torch.tensor(X, dtype = torch.float)\n",
    "        \n",
    "        # construct edge index array E of shape (2, n_edges)\n",
    "        (rows, cols) = np.nonzero(GetAdjacencyMatrix(mol))\n",
    "        torch_rows = torch.from_numpy(rows.astype(np.int64)).to(torch.long)\n",
    "        torch_cols = torch.from_numpy(cols.astype(np.int64)).to(torch.long)\n",
    "        E = torch.stack([torch_rows, torch_cols], dim = 0)\n",
    "        \n",
    "        # construct edge feature array EF of shape (n_edges, n_edge_features)\n",
    "        EF = np.zeros((n_edges, n_edge_features))\n",
    "        \n",
    "        for (k, (i,j)) in enumerate(zip(rows, cols)):\n",
    "            \n",
    "            EF[k] = get_bond_features(mol.GetBondBetweenAtoms(int(i),int(j)))\n",
    "        \n",
    "        EF = torch.tensor(EF, dtype = torch.float)\n",
    "        \n",
    "        print(E)\n",
    "        \n",
    "        # construct label tensor\n",
    "        y_tensor = torch.tensor(np.array([y_val]), dtype = torch.float)\n",
    "        \n",
    "        # construct Pytorch Geometric data object and append to data list\n",
    "        data_list.append(Data(x = X, edge_index = E, edge_attr = EF, y = y_tensor))\n",
    "\n",
    "    return data_list\n",
    "\n",
    "\n",
    "def graph_dset_2(x_smiles,y):\n",
    "\n",
    "    data_list=[]\n",
    "    print(len(x_smiles))\n",
    "    print(len(y))\n",
    "    \n",
    "        \n",
    "    for (smile, y_val) in zip(x_smiles,y):\n",
    "        # convert SMILES to RDKit mol object\n",
    "        print(smile, y_val)\n",
    "        mol = Chem.MolFromSmiles(smile)\n",
    "\n",
    "        # get feature dimensions\n",
    "        n_nodes = mol.GetNumAtoms()\n",
    "        n_edges = 2*mol.GetNumBonds()\n",
    "        unrelated_smiles = \"O=O\"\n",
    "        unrelated_mol = Chem.MolFromSmiles(unrelated_smiles)\n",
    "        n_node_features = len(get_atom_features(unrelated_mol.GetAtomWithIdx(0)))\n",
    "        n_edge_features = len(get_bond_features(unrelated_mol.GetBondBetweenAtoms(0,1)))\n",
    "\n",
    "        # construct node feature matrix X of shape (n_nodes, n_node_features)\n",
    "        X = np.zeros((n_nodes, n_node_features))\n",
    "\n",
    "        for atom in mol.GetAtoms():\n",
    "            X[atom.GetIdx(), :] = get_atom_features(atom)\n",
    "            \n",
    "        X = torch.tensor(X, dtype = torch.float)\n",
    "        \n",
    "        # construct edge index array E of shape (2, n_edges)\n",
    "        (rows, cols) = np.nonzero(GetAdjacencyMatrix(mol))\n",
    "        torch_rows = torch.from_numpy(rows.astype(np.int64)).to(torch.long)\n",
    "        torch_cols = torch.from_numpy(cols.astype(np.int64)).to(torch.long)\n",
    "        E = torch.stack([torch_rows, torch_cols], dim = 0)\n",
    "        \n",
    "        # construct edge feature array EF of shape (n_edges, n_edge_features)\n",
    "        EF = np.zeros((n_edges, n_edge_features))\n",
    "        \n",
    "        for (k, (i,j)) in enumerate(zip(rows, cols)):\n",
    "            \n",
    "            EF[k] = get_bond_features(mol.GetBondBetweenAtoms(int(i),int(j)))\n",
    "        \n",
    "        EF = torch.tensor(EF, dtype = torch.float)\n",
    "        \n",
    "        # construct label tensor\n",
    "        y_tensor = torch.tensor(np.array([y_val]), dtype = torch.float)\n",
    "        \n",
    "        # construct Pytorch Geometric data object and append to data list\n",
    "        data_list.append(Data(x = X, edge_index = E, edge_attr = EF, y = y_tensor))\n",
    "\n",
    "        return data_list\n",
    "\n"
   ]
  },
  {
   "cell_type": "code",
   "execution_count": 45,
   "id": "f0eb3b37",
   "metadata": {},
   "outputs": [
    {
     "name": "stdout",
     "output_type": "stream",
     "text": [
      "2\n",
      "2\n",
      "C=C(Br)c1ccccc1 1\n"
     ]
    },
    {
     "data": {
      "text/plain": [
       "[Data(x=[9, 59], edge_index=[2, 18], edge_attr=[18, 10], y=[1])]"
      ]
     },
     "execution_count": 45,
     "metadata": {},
     "output_type": "execute_result"
    }
   ],
   "source": [
    "data_list=graph_dset_2(['C=C(Br)c1ccccc1','c1ccccc1'],[1,1])\n",
    "data_list"
   ]
  },
  {
   "cell_type": "code",
   "execution_count": 36,
   "id": "12b16d76",
   "metadata": {},
   "outputs": [
    {
     "name": "stdout",
     "output_type": "stream",
     "text": [
      "C=C(Br)c1ccccc1 1\n"
     ]
    },
    {
     "data": {
      "text/plain": [
       "[Data(x=[9, 59], edge_index=[2, 18], edge_attr=[18, 10], y=[1])]"
      ]
     },
     "execution_count": 36,
     "metadata": {},
     "output_type": "execute_result"
    }
   ],
   "source": [
    "data_list=gen_graph_dset(['C=C(Br)c1ccccc1','c1ccccc1'],[1,1])\n",
    "data_list"
   ]
  },
  {
   "cell_type": "code",
   "execution_count": 41,
   "id": "9550db80",
   "metadata": {},
   "outputs": [
    {
     "name": "stdout",
     "output_type": "stream",
     "text": [
      "tensor([[0, 1, 1, 1, 2, 3, 3, 3, 4, 4, 5, 5, 6, 6, 7, 7, 8, 8],\n",
      "        [1, 0, 2, 3, 1, 1, 4, 8, 3, 5, 4, 6, 5, 7, 6, 8, 3, 7]])\n",
      "tensor([[0, 0, 1, 1, 2, 2, 3, 3, 4, 4, 5, 5],\n",
      "        [1, 5, 0, 2, 1, 3, 2, 4, 3, 5, 0, 4]])\n"
     ]
    },
    {
     "data": {
      "text/plain": [
       "[Data(x=[9, 59], edge_index=[2, 18], edge_attr=[18, 10], y=[1]),\n",
       " Data(x=[6, 59], edge_index=[2, 12], edge_attr=[12, 10], y=[1])]"
      ]
     },
     "execution_count": 41,
     "metadata": {},
     "output_type": "execute_result"
    }
   ],
   "source": [
    "data_list1=create_dset(['C=C(Br)c1ccccc1','c1ccccc1'],[1,1])\n",
    "data_list1"
   ]
  },
  {
   "cell_type": "code",
   "execution_count": 38,
   "id": "63977b60",
   "metadata": {},
   "outputs": [
    {
     "name": "stdout",
     "output_type": "stream",
     "text": [
      "C=C(Br)c1ccccc1\n",
      "c1ccccc1\n"
     ]
    }
   ],
   "source": [
    "smiles=['C=C(Br)c1ccccc1','c1ccccc1']\n",
    "labels=[1,1]\n",
    "for (smile, label) in zip(smiles,labels):\n",
    "        # convert SMILES to RDKit mol object\n",
    "        print(smile)\n",
    "        #print(mol)"
   ]
  },
  {
   "cell_type": "code",
   "execution_count": null,
   "id": "731477dc",
   "metadata": {},
   "outputs": [],
   "source": []
  }
 ],
 "metadata": {
  "kernelspec": {
   "display_name": "Python 3 (ipykernel)",
   "language": "python",
   "name": "python3"
  },
  "language_info": {
   "codemirror_mode": {
    "name": "ipython",
    "version": 3
   },
   "file_extension": ".py",
   "mimetype": "text/x-python",
   "name": "python",
   "nbconvert_exporter": "python",
   "pygments_lexer": "ipython3",
   "version": "3.8.13"
  }
 },
 "nbformat": 4,
 "nbformat_minor": 5
}
